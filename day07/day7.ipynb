{
 "metadata": {
  "language_info": {
   "codemirror_mode": {
    "name": "ipython",
    "version": 3
   },
   "file_extension": ".py",
   "mimetype": "text/x-python",
   "name": "python",
   "nbconvert_exporter": "python",
   "pygments_lexer": "ipython3",
   "version": "3.7.4-final"
  },
  "orig_nbformat": 2,
  "kernelspec": {
   "name": "python3",
   "display_name": "Python 3",
   "language": "python"
  }
 },
 "nbformat": 4,
 "nbformat_minor": 2,
 "cells": [
  {
   "cell_type": "code",
   "execution_count": 1,
   "metadata": {},
   "outputs": [
    {
     "output_type": "stream",
     "name": "stdout",
     "text": [
      "296\n"
     ]
    }
   ],
   "source": [
    "import re\n",
    "\n",
    "SHINY_GOLD_BAG = \"shiny gold\"\n",
    "\n",
    "def setup_bags_content(lines, bag):\n",
    "    for line in lines:\n",
    "        (key, values) = get_bag_content(line, [\" bags contain no other bags.\", \" bags contain \"], [\" bag, \", \" bags, \", \" bag.\", \" bags.\"]) \n",
    "        if key != SHINY_GOLD_BAG:\n",
    "            bags[key] = values\n",
    "\n",
    "def get_bag_content(bag_line, key_values_separators, values_separators):\n",
    "    key_values_pair = get_bag_key_values_pair(bag_line, key_values_separators)\n",
    "    bag_key = key_values_pair[0]\n",
    "    bag_values = get_bag_values(key_values_pair[1], values_separators)\n",
    "    return (bag_key, bag_values)\n",
    "\n",
    "def get_bag_key_values_pair(bag_line, key_values_separators):\n",
    "    regexPattern = \"|\".join(map(re.escape, key_values_separators))\n",
    "    return re.split(regexPattern, bag_line)\n",
    "    \n",
    "def get_bag_values(values_str, values_separators):\n",
    "    regexPattern = \"|\".join(map(re.escape, values_separators))\n",
    "    possible_values = re.split(regexPattern, values_str)\n",
    "    return [value.partition(\" \")[2] for value in possible_values if value]\n",
    "\n",
    "def has_shiny_gold_bag(bags, key, has_shiny_gold_bag_dic):\n",
    "    if has_shiny_gold_bag_dic.get(key):\n",
    "        return\n",
    "    content = bags.get(key)\n",
    "    for bag in content:\n",
    "        if bag == SHINY_GOLD_BAG:\n",
    "            has_shiny_gold_bag_dic[key] = True\n",
    "            return\n",
    "        has_shiny_gold_bag(bags, bag, has_shiny_gold_bag_dic)\n",
    "        if has_shiny_gold_bag_dic.get(bag):\n",
    "            has_shiny_gold_bag_dic[key] = True\n",
    "            return \n",
    "    has_shiny_gold_bag_dic[key] = False\n",
    "        \n",
    "\n",
    "    \n",
    "with open(\"puzzle.txt\", \"r\") as file:\n",
    "    lines = file.read().split(\"\\n\")\n",
    "\n",
    "bags = {}\n",
    "has_shiny_gold_bag_map = {}\n",
    "\n",
    "setup_bags_content(lines, bags)\n",
    "\n",
    "for bag in bags.keys():\n",
    "    has_shiny_gold_bag(bags, bag, has_shiny_gold_bag_map)\n",
    "\n",
    "result = sum(1 for value in has_shiny_gold_bag_map.values() if value)\n",
    "print(result)"
   ]
  },
  {
   "cell_type": "code",
   "execution_count": 2,
   "metadata": {},
   "outputs": [
    {
     "output_type": "stream",
     "name": "stdout",
     "text": [
      "9339\n"
     ]
    }
   ],
   "source": [
    "class BagContent:\n",
    "    def __init__(self, bag_content):\n",
    "        partition = bag_content.partition(\" \")\n",
    "        self.amount = int(partition[0])\n",
    "        self.bag = partition[2]\n",
    "    \n",
    "def setup_bags_content(lines, bag):\n",
    "    for line in lines:\n",
    "        (key, values) = get_bag_content(line, [\" bags contain no other bags.\", \" bags contain \"], [\" bag, \", \" bags, \", \" bag.\", \" bags.\"]) \n",
    "        bags[key] = values\n",
    "\n",
    "def get_bag_values(values_str, values_separators):\n",
    "    regexPattern = \"|\".join(map(re.escape, values_separators))\n",
    "    possible_values = re.split(regexPattern, values_str)\n",
    "    return [BagContent(value) for value in possible_values if value]\n",
    "\n",
    "def get_bags_amount(bags, key):\n",
    "    result = 0\n",
    "    bags_content = bags.get(key)\n",
    "    if bags_content:\n",
    "        result = sum(bag_content.amount + bag_content.amount * get_bags_amount(bags, bag_content.bag) for bag_content in bags_content)\n",
    "    return result\n",
    "\n",
    "bags = {}\n",
    "setup_bags_content(lines, bags)\n",
    "result = get_bags_amount(bags, SHINY_GOLD_BAG)\n",
    "print(result)"
   ]
  }
 ]
}