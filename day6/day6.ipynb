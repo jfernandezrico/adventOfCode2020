{
 "metadata": {
  "language_info": {
   "codemirror_mode": {
    "name": "ipython",
    "version": 3
   },
   "file_extension": ".py",
   "mimetype": "text/x-python",
   "name": "python",
   "nbconvert_exporter": "python",
   "pygments_lexer": "ipython3",
   "version": 3
  },
  "orig_nbformat": 2
 },
 "nbformat": 4,
 "nbformat_minor": 2,
 "cells": [
  {
   "cell_type": "code",
   "execution_count": null,
   "metadata": {},
   "outputs": [],
   "source": [
    "def get_groups(data, separator):\n",
    "    return data.split(separator)\n",
    "\n",
    "def get_group_answers(data, separator):\n",
    "    return data.split(separator)\n",
    "\n",
    "def get_different_answers(answers):\n",
    "    answers_together = \"\".join(answers)\n",
    "    different_answers = \"\".join(answers_together)\n",
    "    return len(different_answers)\n",
    "\n",
    "with open(\"puzzle.txt\", \"r\") as file:\n",
    "    data = file.read()\n",
    "\n",
    "groups = get_groups(data, \"\\n\\n\")"
   ]
  }
 ]
}