{
 "metadata": {
  "language_info": {
   "codemirror_mode": {
    "name": "ipython",
    "version": 3
   },
   "file_extension": ".py",
   "mimetype": "text/x-python",
   "name": "python",
   "nbconvert_exporter": "python",
   "pygments_lexer": "ipython3",
   "version": "3.7.4-final"
  },
  "orig_nbformat": 2,
  "kernelspec": {
   "name": "python3",
   "display_name": "Python 3",
   "language": "python"
  }
 },
 "nbformat": 4,
 "nbformat_minor": 2,
 "cells": [
  {
   "cell_type": "code",
   "execution_count": 5,
   "metadata": {},
   "outputs": [
    {
     "output_type": "stream",
     "name": "stdout",
     "text": [
      "6542\n"
     ]
    }
   ],
   "source": [
    "def get_groups(data, separator):\n",
    "    return data.split(separator)\n",
    "\n",
    "def get_group_answers(data, separator):\n",
    "    return data.split(separator)\n",
    "\n",
    "def get_different_answers(answers):\n",
    "    answers_together = \"\".join(answers)\n",
    "    different_answers = \"\".join(set(answers_together))\n",
    "    return len(different_answers)\n",
    "\n",
    "with open(\"puzzle.txt\", \"r\") as file:\n",
    "    data = file.read()\n",
    "\n",
    "groups = get_groups(data, \"\\n\\n\")\n",
    "result = sum(get_different_answers(get_group_answers(group, \"\\n\")) for group in groups)\n",
    "print(result)\n"
   ]
  },
  {
   "cell_type": "code",
   "execution_count": null,
   "metadata": {},
   "outputs": [],
   "source": []
  }
 ]
}