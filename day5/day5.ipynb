{
 "metadata": {
  "language_info": {
   "codemirror_mode": {
    "name": "ipython",
    "version": 3
   },
   "file_extension": ".py",
   "mimetype": "text/x-python",
   "name": "python",
   "nbconvert_exporter": "python",
   "pygments_lexer": "ipython3",
   "version": "3.7.4-final"
  },
  "orig_nbformat": 2,
  "kernelspec": {
   "name": "python3",
   "display_name": "Python 3"
  }
 },
 "nbformat": 4,
 "nbformat_minor": 2,
 "cells": [
  {
   "cell_type": "code",
   "execution_count": 19,
   "metadata": {},
   "outputs": [
    {
     "output_type": "stream",
     "name": "stdout",
     "text": [
      "970\n"
     ]
    }
   ],
   "source": [
    "def get_row_column(row_column_str, min, max, lower_letter):\n",
    "    for letter in row_column_str:\n",
    "        diff = max - min + 1\n",
    "        half = diff / 2\n",
    "        if letter == lower_letter:\n",
    "            max -= half\n",
    "        else:\n",
    "            min += half\n",
    "    return int(min)\n",
    "\n",
    "def get_seat_id(row, column):\n",
    "    return int(row * 8 + column)\n",
    "\n",
    "with open(\"puzzle.txt\", \"r\") as f:\n",
    "    lines = f.readlines()\n",
    "\n",
    "max_seat_id = 0\n",
    "for line in lines:\n",
    "    seat = line.rstrip()\n",
    "    row = get_row_column(seat[:7], 0, 127, 'F')\n",
    "    column = get_row_column(seat[-3:], 0, 7, 'L')\n",
    "    seat_id = get_seat_id(row, column)\n",
    "    if seat_id > max_seat_id:\n",
    "        max_seat_id = seat_id\n",
    "\n",
    "print(max_seat_id)\n",
    "    \n",
    "    \n",
    "    "
   ]
  },
  {
   "cell_type": "code",
   "execution_count": 32,
   "metadata": {},
   "outputs": [
    {
     "output_type": "stream",
     "name": "stdout",
     "text": [
      "587\n"
     ]
    }
   ],
   "source": [
    "seats = [get_seat_id(get_row_column(line.rstrip()[:7], 0, 127, 'F'), get_row_column(line.rstrip()[-3:], 0, 7, 'L')) for line in lines]\n",
    "seats.sort()\n",
    "\n",
    "previous_seat = seats[0]\n",
    "missing_seat = 0\n",
    "for seat in seats[1:]:\n",
    "    if seat - previous_seat > 1:\n",
    "        missing_seat = previous_seat + 1\n",
    "        break\n",
    "    else:\n",
    "        previous_seat = seat\n",
    "print(missing_seat)\n",
    "\n"
   ]
  },
  {
   "cell_type": "code",
   "execution_count": 24,
   "metadata": {},
   "outputs": [
    {
     "output_type": "execute_result",
     "data": {
      "text/plain": [
       "68"
      ]
     },
     "metadata": {},
     "execution_count": 24
    }
   ],
   "source": [
    "seats[0]\n"
   ]
  },
  {
   "cell_type": "code",
   "execution_count": null,
   "metadata": {},
   "outputs": [],
   "source": []
  }
 ]
}