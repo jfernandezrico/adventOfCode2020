{
 "metadata": {
  "language_info": {
   "codemirror_mode": {
    "name": "ipython",
    "version": 3
   },
   "file_extension": ".py",
   "mimetype": "text/x-python",
   "name": "python",
   "nbconvert_exporter": "python",
   "pygments_lexer": "ipython3",
   "version": "3.7.4-final"
  },
  "orig_nbformat": 2,
  "kernelspec": {
   "name": "python3",
   "display_name": "Python 3"
  }
 },
 "nbformat": 4,
 "nbformat_minor": 2,
 "cells": [
  {
   "cell_type": "code",
   "execution_count": 51,
   "metadata": {},
   "outputs": [
    {
     "output_type": "stream",
     "name": "stdout",
     "text": [
      "220\n"
     ]
    }
   ],
   "source": [
    "def is_tree(line, position):\n",
    "    return (line[position % len(line)] == '#')\n",
    "\n",
    "with open(\"puzzle.txt\", \"r\") as f:\n",
    "    forest = f.readlines()\n",
    "    forest.pop(0)\n",
    "    result = sum(1 for index, line in enumerate(forest, start=1) if is_tree(line.rstrip(), index * 3))\n",
    "    print(result)"
   ]
  },
  {
   "cell_type": "code",
   "execution_count": 52,
   "metadata": {},
   "outputs": [
    {
     "output_type": "stream",
     "name": "stdout",
     "text": [
      "2138320800\n"
     ]
    }
   ],
   "source": [
    "def get_number_of_trees(file_name, right, down):\n",
    "    with open(file_name, \"r\") as f:\n",
    "        forest = f.readlines()\n",
    "\n",
    "    result = 0\n",
    "    index = 0\n",
    "    while (len(forest) > down):\n",
    "        index += 1\n",
    "        del forest[:down]\n",
    "        if is_tree(forest[0].rstrip(), index * right):\n",
    "            result += 1 \n",
    "    return result\n",
    "\n",
    "r1_d1 = get_number_of_trees(\"puzzle.txt\", 1, 1)\n",
    "r3_d1 = get_number_of_trees(\"puzzle.txt\", 3, 1)\n",
    "r5_d1 = get_number_of_trees(\"puzzle.txt\", 5, 1)\n",
    "r7_d1 = get_number_of_trees(\"puzzle.txt\", 7, 1)\n",
    "r1_d2 = get_number_of_trees(\"puzzle.txt\", 1, 2)\n",
    "\n",
    "print(r1_d1 * r3_d1 * r5_d1 * r7_d1 * r1_d2)"
   ]
  },
  {
   "cell_type": "code",
   "execution_count": null,
   "metadata": {},
   "outputs": [],
   "source": []
  }
 ]
}