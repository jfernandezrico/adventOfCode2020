{
 "metadata": {
  "language_info": {
   "codemirror_mode": {
    "name": "ipython",
    "version": 3
   },
   "file_extension": ".py",
   "mimetype": "text/x-python",
   "name": "python",
   "nbconvert_exporter": "python",
   "pygments_lexer": "ipython3",
   "version": "3.7.4-final"
  },
  "orig_nbformat": 2,
  "kernelspec": {
   "name": "python3",
   "display_name": "Python 3",
   "language": "python"
  }
 },
 "nbformat": 4,
 "nbformat_minor": 2,
 "cells": [
  {
   "cell_type": "code",
   "execution_count": 17,
   "metadata": {},
   "outputs": [
    {
     "output_type": "stream",
     "name": "stdout",
     "text": [
      "2272\n"
     ]
    }
   ],
   "source": [
    "def get_jolt_differences(adapters):\n",
    "    one_jolt_count = 0\n",
    "    three_jolt_count = 0\n",
    "\n",
    "    adapters.sort()\n",
    "    adapters.insert(0, 0)\n",
    "    \n",
    "    for i in range(len(adapters)-1):\n",
    "        adapters_difference = adapters[i+1] - adapters[i]\n",
    "        if adapters_difference == 1:\n",
    "            one_jolt_count += 1\n",
    "        elif adapters_difference == 3:\n",
    "            three_jolt_count += 1\n",
    "    three_jolt_count += 1\n",
    "    \n",
    "    return one_jolt_count * three_jolt_count\n",
    "\n",
    "\n",
    "with open(\"puzzle.txt\", \"r\") as file:\n",
    "    lines = file.read().split(\"\\n\")\n",
    "\n",
    "adapters = list(map(lambda x: int(x), lines))\n",
    "result = get_jolt_differences(adapters)\n",
    "print(result)"
   ]
  },
  {
   "cell_type": "code",
   "execution_count": 18,
   "metadata": {},
   "outputs": [
    {
     "output_type": "error",
     "ename": "IndentationError",
     "evalue": "expected an indented block (<ipython-input-18-b15dc5c52471>, line 7)",
     "traceback": [
      "\u001b[0;36m  File \u001b[0;32m\"<ipython-input-18-b15dc5c52471>\"\u001b[0;36m, line \u001b[0;32m7\u001b[0m\n\u001b[0;31m    arrangements[adapters[i]] = 0\u001b[0m\n\u001b[0m               ^\u001b[0m\n\u001b[0;31mIndentationError\u001b[0m\u001b[0;31m:\u001b[0m expected an indented block\n"
     ]
    }
   ],
   "source": [
    "def get_total_number_of_arrangements(adapters):\n",
    "    adapters.sort()\n",
    "    adapters.insert(0, 0)\n",
    "\n",
    "    arrangements = {}\n",
    "    for i in range(len(adapters) -1 , -1, -1):\n",
    "        arrangements[adapters[i]] = 0\n",
    "        for j in range(i + 1, len(adapters)):\n",
    "            if adapters[j] - adapters[i] <= 3:\n",
    "                arrangements[adapters[i]] += arrangements[adapters[j]]\n",
    "            else:\n",
    "                break\n",
    "        if not arrangements.get(adapters[i]):\n",
    "            arrangements[adapters[i]] = 1\n",
    "\n",
    "    return arrangements[adapters[0]]\n",
    "\n",
    "result = get_total_number_of_arrangements(adapters)\n",
    "print(result)\n"
   ]
  },
  {
   "cell_type": "code",
   "execution_count": 16,
   "metadata": {},
   "outputs": [
    {
     "output_type": "stream",
     "name": "stdout",
     "text": [
      "elem:  7 , value:  1 \n\n\nfound  7  for  6  ->  1\nelem:  6 , value:  1 \n\n\nfound  6  for  5  ->  1\nfound  7  for  5  ->  1\nelem:  5 , value:  2 \n\n\nfound  5  for  4  ->  2\nfound  6  for  4  ->  1\nfound  7  for  4  ->  1\nelem:  4 , value:  4 \n\n\nfound  4  for  3  ->  4\nfound  5  for  3  ->  2\nfound  6  for  3  ->  1\nelem:  3 , value:  7 \n\n\nfound  3  for  1  ->  7\nfound  4  for  1  ->  4\nelem:  1 , value:  11 \n\n\nfound  1  for  0  ->  11\nfound  3  for  0  ->  7\nelem:  0 , value:  18 \n\n\n18\n"
     ]
    }
   ],
   "source": [
    "\n",
    "lista = [0, 1, 3, 4, 5, 6, 7]\n",
    "dic = {}\n",
    "for i in range(len(lista) -1 , -1, -1):\n",
    "    dic[lista[i]] = 0\n",
    "    for j in range(i + 1, len(lista)):\n",
    "        if lista[j] - lista[i] <= 3:\n",
    "            print(\"found \", lista[j], \" for \", lista[i], \" -> \", dic[lista[j]])\n",
    "            dic[lista[i]] += dic[lista[j]]\n",
    "            #print(dic[lista[i]], \" = \", dic[lista[i]], \" + \", dic[lista[j]])\n",
    "        else:\n",
    "            break\n",
    "    if not dic.get(lista[i]):\n",
    "        dic[lista[i]] = 1\n",
    "    print(\"elem: \", lista[i], \", value: \", dic[lista[i]], \"\\n\\n\")\n",
    "\n",
    "print(dic[lista[0]])\n",
    "    \n",
    "\n",
    "\n"
   ]
  },
  {
   "cell_type": "code",
   "execution_count": 7,
   "metadata": {},
   "outputs": [
    {
     "output_type": "stream",
     "name": "stdout",
     "text": [
      "7\n6\n5\n4\n3\n1\n0\n"
     ]
    }
   ],
   "source": [
    "lista = [0, 1, 3, 4, 5, 6, 7]\n",
    "\n",
    "for i in range(len(lista)-1, -1, -1):\n",
    "    print(lista[i])"
   ]
  },
  {
   "cell_type": "code",
   "execution_count": null,
   "metadata": {},
   "outputs": [],
   "source": []
  }
 ]
}