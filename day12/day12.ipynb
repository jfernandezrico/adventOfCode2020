{
 "metadata": {
  "language_info": {
   "codemirror_mode": {
    "name": "ipython",
    "version": 3
   },
   "file_extension": ".py",
   "mimetype": "text/x-python",
   "name": "python",
   "nbconvert_exporter": "python",
   "pygments_lexer": "ipython3",
   "version": "3.7.4-final"
  },
  "orig_nbformat": 2,
  "kernelspec": {
   "name": "python3",
   "display_name": "Python 3",
   "language": "python"
  }
 },
 "nbformat": 4,
 "nbformat_minor": 2,
 "cells": [
  {
   "cell_type": "code",
   "execution_count": 39,
   "metadata": {},
   "outputs": [
    {
     "output_type": "stream",
     "name": "stdout",
     "text": [
      "2879\n"
     ]
    }
   ],
   "source": [
    "NORTH = \"N\"\n",
    "SOUTH = \"S\"\n",
    "EAST = \"E\"\n",
    "WEST = \"W\"\n",
    "FORWARD = \"F\"\n",
    "LEFT = \"L\"\n",
    "RIGHT = \"R\"\n",
    "\n",
    "\n",
    "class Instruction:\n",
    "\n",
    "    def __init__(self, instruction_str):\n",
    "        self.action = instruction_str[:1]\n",
    "        self.value = int(instruction_str[1:])\n",
    "\n",
    "def calculate_new_direction(old_direction, instruction):\n",
    "    turns = [NORTH, EAST, SOUTH, WEST]\n",
    "    degrees_postions = {90: 1, 180: 2, 270: 3}\n",
    "    turn_offset_symbol = {LEFT: '-', RIGHT: '+'}\n",
    "\n",
    "    return turns[(eval(turn_offset_symbol[instruction.action] + str(degrees_postions[instruction.value])) + turns.index(old_direction)) % 4]\n",
    "\n",
    "def calculate_manhattan_distance(instructions, direction):\n",
    "    north_value = 0\n",
    "    east_value = 0\n",
    "\n",
    "    for instruction_str in instructions:\n",
    "        instruction = Instruction(instruction_str)\n",
    "\n",
    "        if instruction.action == FORWARD:\n",
    "            instruction.action = direction\n",
    "        if instruction.action == EAST:\n",
    "            east_value += instruction.value\n",
    "        elif instruction.action == WEST:\n",
    "            east_value -= instruction.value\n",
    "        elif instruction.action == NORTH:\n",
    "            north_value += instruction.value\n",
    "        elif instruction.action == SOUTH:\n",
    "            north_value -= instruction.value\n",
    "        elif instruction.action in [LEFT, RIGHT]:\n",
    "            direction = calculate_new_direction(direction, instruction)\n",
    "\n",
    "    return abs(east_value) + abs(north_value)\n",
    "\n",
    "\n",
    "with open(\"puzzle.txt\", \"r\") as file:\n",
    "    lines = file.read().split('\\n')\n",
    "\n",
    "result = calculate_manhattan_distance(lines, EAST)\n",
    "print(result)"
   ]
  },
  {
   "cell_type": "code",
   "execution_count": null,
   "metadata": {},
   "outputs": [],
   "source": []
  }
 ]
}