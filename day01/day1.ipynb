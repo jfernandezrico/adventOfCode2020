{
 "metadata": {
  "language_info": {
   "codemirror_mode": {
    "name": "ipython",
    "version": 3
   },
   "file_extension": ".py",
   "mimetype": "text/x-python",
   "name": "python",
   "nbconvert_exporter": "python",
   "pygments_lexer": "ipython3",
   "version": "3.7.4-final"
  },
  "orig_nbformat": 2,
  "kernelspec": {
   "name": "python3",
   "display_name": "Python 3",
   "language": "python"
  }
 },
 "nbformat": 4,
 "nbformat_minor": 2,
 "cells": [
  {
   "source": [
    "def getNumbersWithSum(list, sumValue):\n",
    "\tfor i in range(len(list)):\n",
    "\t\tfor j in range(i+1, len(list)):\n",
    "\t\t\tif list[i] + list[j] == sumValue:\n",
    "\t\t\t\treturn (list[i], list[j])\n",
    "\treturn (0, 0)\n",
    "\n",
    "with open(\"puzzle.txt\", \"r\") as f:\n",
    "\tpuzzle = [int(line.rstrip()) for line in f]\n",
    "\n",
    "numbersWithSum = getNumbersWithSum(puzzle, 2020)\n",
    "print(\"Numbers found: \", numbersWithSum[0], \", \", numbersWithSum[1])\n",
    "print(\"Multiplication: \", numbersWithSum[0] * numbersWithSum[1])"
   ],
   "cell_type": "code",
   "metadata": {
    "tags": []
   },
   "execution_count": 1,
   "outputs": [
    {
     "output_type": "stream",
     "name": "stdout",
     "text": [
      "Numbers found:  1751 ,  269\nMultiplication:  471019\n"
     ]
    }
   ]
  },
  {
   "cell_type": "code",
   "execution_count": 2,
   "metadata": {},
   "outputs": [
    {
     "output_type": "stream",
     "name": "stdout",
     "text": [
      "Numbers found:  1442 ,  396 ,  182\nMultiplication:  103927824\n"
     ]
    }
   ],
   "source": [
    "def getNumbersWithSum(list, sumValue):\n",
    "\tfor i in range(len(list)):\n",
    "\t\tfor j in range(i+1, len(list)):\n",
    "\t\t\tfor k in range(j+1, len(list)):\n",
    "\t\t\t\tif list[i] + list[j] + list[k] == sumValue:\n",
    "\t\t\t\t\treturn (list[i], list[j], list[k])\n",
    "\treturn (0, 0, 0)\n",
    "\n",
    "numbersWithSum = getNumbersWithSum(puzzle, 2020)\n",
    "print(\"Numbers found: \", numbersWithSum[0], \", \", numbersWithSum[1], \", \", numbersWithSum[2])\n",
    "print(\"Multiplication: \", numbersWithSum[0] * numbersWithSum[1] * numbersWithSum[2])"
   ]
  },
  {
   "cell_type": "code",
   "execution_count": null,
   "metadata": {},
   "outputs": [],
   "source": []
  }
 ]
}