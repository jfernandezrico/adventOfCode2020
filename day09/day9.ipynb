{
 "metadata": {
  "language_info": {
   "codemirror_mode": {
    "name": "ipython",
    "version": 3
   },
   "file_extension": ".py",
   "mimetype": "text/x-python",
   "name": "python",
   "nbconvert_exporter": "python",
   "pygments_lexer": "ipython3",
   "version": "3.7.4-final"
  },
  "orig_nbformat": 2,
  "kernelspec": {
   "name": "python3",
   "display_name": "Python 3",
   "language": "python"
  }
 },
 "nbformat": 4,
 "nbformat_minor": 2,
 "cells": [
  {
   "cell_type": "code",
   "execution_count": 14,
   "metadata": {},
   "outputs": [
    {
     "output_type": "stream",
     "name": "stdout",
     "text": [
      "2089807806\n"
     ]
    }
   ],
   "source": [
    "def get_preamble_numbers(numbers, preamble):\n",
    "    return numbers[:preamble]\n",
    "\n",
    "def get_weakness(preamble, numbers):\n",
    "    for number in numbers:\n",
    "        if not number_is_sum_of_numbers(number, preamble):\n",
    "            return number\n",
    "        preamble.append(number)\n",
    "    return 0\n",
    "\n",
    "def number_is_sum_of_numbers(number, numbers):\n",
    "    for i in range(len(numbers)):\n",
    "        for j in range(i+1, len(numbers)):\n",
    "            if numbers[i] + numbers[j] == number:\n",
    "                return True\n",
    "    return False\n",
    "\n",
    "with open(\"puzzle.txt\", \"r\") as file:\n",
    "    lines = file.read().split(\"\\n\")\n",
    "\n",
    "numbers = list(map(lambda x: int(x), lines))\n",
    "result = get_weakness(numbers[:25], numbers[26:])\n",
    "print(result)"
   ]
  },
  {
   "cell_type": "code",
   "execution_count": 54,
   "metadata": {},
   "outputs": [
    {
     "output_type": "stream",
     "name": "stdout",
     "text": [
      "245848639\n"
     ]
    }
   ],
   "source": [
    "def get_weakness_and_preamble(preamble, numbers):\n",
    "    for number in numbers:\n",
    "        if not number_is_sum_of_numbers(number, preamble):\n",
    "            return (number, preamble)\n",
    "        preamble.append(number)\n",
    "    return (0, [])\n",
    "\n",
    "def get_encryption_weakness(weakness, preamble):\n",
    "    preamble_len = len(preamble)\n",
    "    for i in range(preamble_len-1):\n",
    "        accumulate = preamble[i]\n",
    "        if accumulate < weakness:\n",
    "            for j in range(i+1, preamble_len):\n",
    "                accumulate += preamble[j]\n",
    "                if accumulate == weakness:\n",
    "                    subset = preamble[i:j+1]\n",
    "                    subset.sort()\n",
    "                    return subset[0] + subset[len(subset) -1]\n",
    "                elif accumulate > weakness:\n",
    "                    break\n",
    "    return 0\n",
    "\n",
    "(weakness, preamble) = get_weakness_and_preamble(numbers[:25], numbers[26:])\n",
    "result = get_encryption_weakness(weakness, preamble)\n",
    "print(result)"
   ]
  }
 ]
}