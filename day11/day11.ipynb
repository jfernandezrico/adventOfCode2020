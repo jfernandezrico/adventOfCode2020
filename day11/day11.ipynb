{
 "metadata": {
  "language_info": {
   "codemirror_mode": {
    "name": "ipython",
    "version": 3
   },
   "file_extension": ".py",
   "mimetype": "text/x-python",
   "name": "python",
   "nbconvert_exporter": "python",
   "pygments_lexer": "ipython3",
   "version": "3.7.4-final"
  },
  "orig_nbformat": 2,
  "kernelspec": {
   "name": "python3",
   "display_name": "Python 3",
   "language": "python"
  }
 },
 "nbformat": 4,
 "nbformat_minor": 2,
 "cells": [
  {
   "cell_type": "code",
   "execution_count": 37,
   "metadata": {},
   "outputs": [
    {
     "output_type": "stream",
     "name": "stdout",
     "text": [
      "2281\n"
     ]
    }
   ],
   "source": [
    "EMPTY = \"L\"\n",
    "OCCUPIED = \"#\"\n",
    "FLOOR = \".\"\n",
    "\n",
    "def setup_seats(lines):\n",
    "    seats = {}\n",
    "    for row, line in enumerate(lines, start=0):\n",
    "        seats_row = {}\n",
    "        for column, char in enumerate(line, start=0):\n",
    "            seats_row[column] = char\n",
    "        seats[row] = seats_row\n",
    "    return seats\n",
    "\n",
    "def iterate_seats(seats):\n",
    "    result = {}\n",
    "    for row in seats:\n",
    "        result[row] = {}\n",
    "        for column in seats.get(row):\n",
    "            place = seats.get(row).get(column)\n",
    "            adjacents = get_adjacent_seats(seats, row, column)\n",
    "            result[row][column] = set_seat(place, adjacents)\n",
    "    return result\n",
    "\n",
    "def set_seat(place, adjacents):\n",
    "    return OCCUPIED if place == EMPTY and OCCUPIED not in adjacents else EMPTY if place == OCCUPIED and adjacents.count(OCCUPIED) > 3 else place\n",
    "\n",
    "def get_adjacent_seats(seats, row, column):\n",
    "    adjacent_seats = {\n",
    "        row - 1: {column - 1, column, column + 1},\n",
    "        row: {column -1, column + 1},\n",
    "        row + 1: {column - 1, column, column + 1}\n",
    "    }\n",
    "    result = []\n",
    "    for row in adjacent_seats:\n",
    "        if seats.get(row):\n",
    "            for column in adjacent_seats.get(row):\n",
    "                seat = seats.get(row).get(column)\n",
    "                if seat:\n",
    "                    result.append(seat)\n",
    "    return result\n",
    "\n",
    "def count_seats(seats, kind):\n",
    "    return sum(list(seats.get(row).values()).count(kind) for row in seats)\n",
    "        \n",
    "with open(\"puzzle.txt\", \"r\") as file:\n",
    "    lines = file.read().split('\\n')\n",
    "\n",
    "old_seats = setup_seats(lines)\n",
    "new_seats = iterate_seats(old_seats)\n",
    "while old_seats != new_seats:\n",
    "    old_seats = new_seats\n",
    "    new_seats = iterate_seats(old_seats)\n",
    "\n",
    "result = count_seats(new_seats, OCCUPIED)\n",
    "print(result)\n",
    "\n"
   ]
  },
  {
   "cell_type": "code",
   "execution_count": null,
   "metadata": {},
   "outputs": [],
   "source": []
  }
 ]
}