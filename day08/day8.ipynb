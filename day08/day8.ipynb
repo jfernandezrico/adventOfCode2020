{
 "metadata": {
  "language_info": {
   "codemirror_mode": {
    "name": "ipython",
    "version": 3
   },
   "file_extension": ".py",
   "mimetype": "text/x-python",
   "name": "python",
   "nbconvert_exporter": "python",
   "pygments_lexer": "ipython3",
   "version": "3.7.4-final"
  },
  "orig_nbformat": 2,
  "kernelspec": {
   "name": "python3",
   "display_name": "Python 3",
   "language": "python"
  }
 },
 "nbformat": 4,
 "nbformat_minor": 2,
 "cells": [
  {
   "cell_type": "code",
   "execution_count": 17,
   "metadata": {},
   "outputs": [
    {
     "output_type": "stream",
     "name": "stdout",
     "text": [
      "1087\n"
     ]
    }
   ],
   "source": [
    "ACCUMULATOR = \"acc\"\n",
    "JUMP = \"jmp\"\n",
    "NO_OPERATION = \"nop\"\n",
    "\n",
    "class Instruction:\n",
    "    \n",
    "    def __init__(self, instruction_str):\n",
    "        instruction_splitted = instruction_str.split(\" \")\n",
    "        self.operation = instruction_splitted[0]\n",
    "        self.argument = int(instruction_splitted[1])\n",
    "        self.already_visited = False\n",
    "\n",
    "\n",
    "def get_instructions(lines):\n",
    "    return {index + 1: Instruction(lines[index]) for index in range(len(lines))}\n",
    "\n",
    "def get_accumulator(instructions):\n",
    "    infinite_loop_detected = False\n",
    "    index = 1\n",
    "    accumulator = 0\n",
    "\n",
    "    while not infinite_loop_detected:\n",
    "        instruction = instructions.get(index)\n",
    "        if instruction.already_visited:\n",
    "            infinite_loop_detected = True\n",
    "        else:\n",
    "            instruction.already_visited = True\n",
    "            instructions[index] = instruction\n",
    "            if instruction.operation == JUMP:\n",
    "                index += instruction.argument\n",
    "            else:\n",
    "                if instruction.operation == ACCUMULATOR:\n",
    "                    accumulator += instruction.argument\n",
    "                index += 1\n",
    "    return accumulator\n",
    "    \n",
    "\n",
    "with open(\"puzzle.txt\", \"r\") as file:\n",
    "    lines = file.read().split(\"\\n\")\n",
    "\n",
    "instructions = get_instructions(lines)\n",
    "result = get_accumulator(instructions)\n",
    "print(result)"
   ]
  },
  {
   "cell_type": "code",
   "execution_count": 18,
   "metadata": {},
   "outputs": [
    {
     "output_type": "stream",
     "name": "stdout",
     "text": [
      "780\n"
     ]
    }
   ],
   "source": [
    "import copy\n",
    "\n",
    "def get_accumulator(instructions):\n",
    "    accumulator = get_accumulator_changing_operation(instructions, JUMP, NO_OPERATION)\n",
    "    return accumulator if accumulator > 0 else get_accumulator_changing_operation(instructions, NO_OPERATION, JUMP)\n",
    "\n",
    "def get_accumulator_changing_operation(instructions, old_operation, new_operation):\n",
    "    accumulator = 0\n",
    "    indexes_to_modify = [key for key in instructions if instructions.get(key).operation == old_operation]\n",
    "\n",
    "    for index in indexes_to_modify:\n",
    "        new_instructions = change_operation(instructions, index, new_operation)\n",
    "        accumulator = calculate_accumulator(new_instructions)\n",
    "        if accumulator > 0:\n",
    "            break\n",
    "\n",
    "    return accumulator\n",
    "\n",
    "def change_operation(instructions, index, new_operation):\n",
    "    new_instructions = copy.deepcopy(instructions)\n",
    "    instruction_to_change = new_instructions.get(index)\n",
    "    instruction_to_change.operation = new_operation\n",
    "    new_instructions[index] = instruction_to_change\n",
    "    return new_instructions\n",
    "\n",
    "\n",
    "def calculate_accumulator(instructions):\n",
    "    infinite_loop_detected = False\n",
    "    last_index_found = False\n",
    "    last_index = len(instructions)\n",
    "    index = 1\n",
    "    accumulator = 0\n",
    "\n",
    "    while not infinite_loop_detected and not last_index_found:\n",
    "        instruction = instructions.get(index)\n",
    "        if instruction.already_visited:\n",
    "            infinite_loop_detected = True\n",
    "        else:\n",
    "            if index == last_index:\n",
    "                last_index_found = True\n",
    "            instruction.already_visited = True\n",
    "            instructions[index] = instruction\n",
    "            if instruction.operation == JUMP:\n",
    "                index += instruction.argument\n",
    "            else:\n",
    "                if instruction.operation == ACCUMULATOR:\n",
    "                    accumulator += instruction.argument\n",
    "                index += 1\n",
    "        \n",
    "    return 0 if infinite_loop_detected else accumulator\n",
    "\n",
    "instructions = get_instructions(lines)\n",
    "result = get_accumulator(instructions)\n",
    "print(result)"
   ]
  },
  {
   "cell_type": "code",
   "execution_count": null,
   "metadata": {},
   "outputs": [],
   "source": []
  }
 ]
}